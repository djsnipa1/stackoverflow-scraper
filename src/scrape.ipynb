{
 "cells": [
  {
   "cell_type": "code",
   "execution_count": null,
   "metadata": {
    "lines_to_next_cell": 1
   },
   "outputs": [],
   "source": [
    "from SoupKitchen.Utensils import MakeSoup\n",
    "import string"
   ]
  },
  {
   "cell_type": "code",
   "execution_count": null,
   "metadata": {},
   "outputs": [],
   "source": [
    "def remove_non_ascii(str):\n",
    "    \"\"\"\n",
    "    Remove any non-ascii characters to prevent errors\n",
    "    \"\"\"\n",
    "\n",
    "    return ''.join([x for x in str if x in string.printable])"
   ]
  },
  {
   "cell_type": "code",
   "execution_count": null,
   "metadata": {},
   "outputs": [],
   "source": [
    "def replace_with_md(tag, block, start, end, alt_start='', alt_end=''):\n",
    "    \"\"\"\n",
    "    Replace html tags with markdown\n",
    "    \"\"\"\n",
    "\n",
    "    for tag_item in block.find_all(tag):\n",
    "        tag_item_len = len(tag_item.text)\n",
    "\n",
    "        if (tag_item.parent.name == \"pre\"):\n",
    "            tag_item.insert(0, alt_start)\n",
    "            tag_item.insert(tag_item_len, alt_end)\n",
    "        else:\n",
    "            tag_item.insert(0, start)\n",
    "            tag_item.insert(tag_item_len, end)\n",
    "\n",
    "    return block"
   ]
  },
  {
   "cell_type": "code",
   "execution_count": null,
   "metadata": {},
   "outputs": [],
   "source": [
    "def write_item_head(file_handle, header, link, vote_count, user_name):\n",
    "    \"\"\"\n",
    "    Write the name of the post with a link, and the number of votes it has\n",
    "    \"\"\"\n",
    "    user_name = remove_non_ascii(user_name)\n",
    "\n",
    "    file_handle.write(\"\\n## [\" + header + \"](\" + link  + \")\\n\\n\")\n",
    "    file_handle.write(\"**\" + vote_count + \" Votes**, \" + user_name + \"\\n\\n\")"
   ]
  },
  {
   "cell_type": "code",
   "execution_count": null,
   "metadata": {},
   "outputs": [],
   "source": [
    "def to_markdown(link, file_handle):\n",
    "    \"\"\"\n",
    "    Delve into link and scrape the text of the first answer, then write to file\n",
    "    \"\"\"\n",
    "\n",
    "    sub_page = MakeSoup(link)\n",
    "\n",
    "    post = sub_page.find(\"div\", {\"itemprop\": \"acceptedAnswer\"})\n",
    "\n",
    "    if not post:\n",
    "        post = sub_page.find(\"div\", {\"class\": \"answer\"})\n",
    "\n",
    "    answer = post.find(\"div\", {\"class\": \"post-text\"})\n",
    "\n",
    "    answer = replace_with_md(\"code\", answer, \"`\", \"`\", \"\\n```\" + topic.lower() + \"\\n\", \"```\\n\")\n",
    "    answer = replace_with_md(\"h2\", answer, \"\\n### \", \"\\n\")\n",
    "\n",
    "    file_handle.write(remove_non_ascii(answer.text.strip()))"
   ]
  },
  {
   "cell_type": "code",
   "execution_count": null,
   "metadata": {},
   "outputs": [],
   "source": [
    "topic = \"Python\"  #Topic to search for, also in title\n",
    "page_size = 50       #Number of posts to scrape\n",
    "base_url = \"https://stackoverflow.com\""
   ]
  },
  {
   "cell_type": "code",
   "execution_count": null,
   "metadata": {},
   "outputs": [],
   "source": [
    "doc_title = \"StackOverflow Top \" + topic + \" Questions\"\n",
    "output_location = \"../output/\"                                #Choose output directory\n",
    "file_name = doc_title.replace(' ', '_')                       #No whitespace for title\n",
    "file_type = \".md\""
   ]
  },
  {
   "cell_type": "code",
   "execution_count": null,
   "metadata": {},
   "outputs": [],
   "source": [
    "links = []\n",
    "titles = []\n",
    "votes = []"
   ]
  },
  {
   "cell_type": "code",
   "execution_count": null,
   "metadata": {},
   "outputs": [],
   "source": [
    "f = open(output_location + file_name + file_type, 'w')"
   ]
  },
  {
   "cell_type": "code",
   "execution_count": null,
   "metadata": {},
   "outputs": [],
   "source": [
    "f.write(\"# \" + doc_title + \"\\n\\n\")"
   ]
  },
  {
   "cell_type": "code",
   "execution_count": null,
   "metadata": {},
   "outputs": [],
   "source": [
    "soup = MakeSoup(\"https://stackoverflow.com/questions/tagged/\"\n",
    "                + topic.lower() +\n",
    "                \"?sort=votes&pageSize=\"\n",
    "                + str(page_size))"
   ]
  },
  {
   "cell_type": "code",
   "execution_count": null,
   "metadata": {},
   "outputs": [],
   "source": [
    "main_div = soup.find(id=\"questions\")"
   ]
  },
  {
   "cell_type": "code",
   "execution_count": null,
   "metadata": {},
   "outputs": [],
   "source": [
    "question_divs = main_div.find_all(\"div\", {\"class\": \"question-summary\"})"
   ]
  },
  {
   "cell_type": "code",
   "execution_count": null,
   "metadata": {},
   "outputs": [],
   "source": [
    "for div, count in zip(question_divs, list(range(0, len(question_divs)))):\n",
    "    heading = div.find(\"h3\")\n",
    "    anchor = heading.find(\"a\")\n",
    "    question_vote = div.find(\"span\", {\"class\": \"vote-count-post\"})\n",
    "    user_details = div.find(\"div\", {\"class\": \"user-details\"})\n",
    "\n",
    "    title = remove_non_ascii(anchor.text.strip())\n",
    "    link = base_url + anchor[\"href\"]\n",
    "    vote = question_vote.text.strip()\n",
    "\n",
    "    user = user_details.find(\"a\")\n",
    "\n",
    "    if user:\n",
    "        user = user_details.find(\"a\").text.strip()\n",
    "    elif user_details.find(\"span\"): \n",
    "        user = user_details.find(\"span\")[\"class\"][0]\n",
    "    else:\n",
    "        user = user_details.text\n",
    "\n",
    "    # titles.append(title)\n",
    "    # links.append(anchor[\"href\"])\n",
    "    # votes.append(question_vote.text.strip())\n",
    "\n",
    "    print((\"Output [\" + str(count) + \"]: \" + title))\n",
    "    write_item_head(f, title, link, vote, user)\n",
    "    to_markdown(link, f)\n",
    "    f.write(\"\\n\")"
   ]
  },
  {
   "cell_type": "code",
   "execution_count": null,
   "metadata": {},
   "outputs": [],
   "source": [
    "f.close()"
   ]
  }
 ],
 "metadata": {
  "jupytext": {
   "cell_metadata_filter": "-all",
   "main_language": "python",
   "notebook_metadata_filter": "-all"
  },
  "kernelspec": {
   "display_name": "Python 3",
   "language": "python",
   "name": "python3"
  }
 },
 "nbformat": 4,
 "nbformat_minor": 4
}
